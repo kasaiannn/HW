{
  "cells": [
    {
      "cell_type": "markdown",
      "metadata": {
        "id": "view-in-github",
        "colab_type": "text"
      },
      "source": [
        "<a href=\"https://colab.research.google.com/github/kasaiannn/HW/blob/main/1HW.ipynb\" target=\"_parent\"><img src=\"https://colab.research.google.com/assets/colab-badge.svg\" alt=\"Open In Colab\"/></a>"
      ]
    },
    {
      "cell_type": "markdown",
      "source": [
        "<a href=\"https://colab.research.google.com/drive/1Nx_klyuwQfMlq_v3woczmeeI3ZKiSdvY?usp=sharing\" target=\"_parent\"><img src=\"https://colab.research.google.com/assets/colab-badge.svg\" alt=\"Open In Colab\"/></a>"
      ],
      "metadata": {
        "id": "BPnoMGlR4rUB"
      }
    },
    {
      "cell_type": "markdown",
      "metadata": {
        "id": "xw8BD8v2oBGj"
      },
      "source": [
        "# Homework"
      ]
    },
    {
      "cell_type": "markdown",
      "metadata": {
        "id": "sSos7q2_oBGj"
      },
      "source": [
        "## Problem 1"
      ]
    },
    {
      "cell_type": "markdown",
      "metadata": {
        "id": "NiX8ePp0oBGk"
      },
      "source": [
        "Make a tuple containing natural numbers, the square of which is a multiple of 3, 4, but not a multiple of 8 and not exceeding 12345."
      ]
    },
    {
      "cell_type": "code",
      "execution_count": 2,
      "metadata": {
        "id": "XmPHEnS9oBGk",
        "colab": {
          "base_uri": "https://localhost:8080/"
        },
        "outputId": "b04ef99f-1065-4cc9-aff5-967d3958d652"
      },
      "outputs": [
        {
          "output_type": "stream",
          "name": "stdout",
          "text": [
            "(6, 18, 30, 42, 54, 66, 78, 90, 102)\n"
          ]
        }
      ],
      "source": [
        "# Создаем список чисел, удовлетворяющих условиям\n",
        "numbers = tuple(k for k in range(1, 111) if k*k % 3 == 0 and k*k % 4 == 0 and k*k % 8 != 0 )\n",
        "\n",
        "# Выводим результат\n",
        "print(numbers)"
      ]
    },
    {
      "cell_type": "markdown",
      "metadata": {
        "id": "OZBeUyxcoBGk"
      },
      "source": [
        "## Problem 2"
      ]
    },
    {
      "cell_type": "markdown",
      "metadata": {
        "id": "zIfvg22noBGk"
      },
      "source": [
        "\n",
        "Write a function that takes a two-dimensional array and a string as input and returns an array rotated 90 degrees counterclockwise if the string 'left' was passed, and clockwise if the string 'right' was passed.\n",
        "\n",
        "Example for input: $\\begin{bmatrix} 1 & 2 & 3 \\\\ 4 & 5 & 6 \\\\ 7 & 8 & 9 \\end{bmatrix}$.\\\n",
        "If the string 'left' is passed, the function should return $\\begin{bmatrix} 3 & 6 & 9 \\\\ 2 & 5 & 8 \\\\ 1 & 4 & 7 \\end{bmatrix}$, and if the string 'right' is passed, the function should return $\\begin{bmatrix} 7 & 4 & 1 \\\\ 8 & 5 & 2 \\\\ 9 & 6 & 3 \\end{bmatrix}$."
      ]
    },
    {
      "cell_type": "code",
      "execution_count": 4,
      "metadata": {
        "id": "HNvy_cRjoBGk",
        "colab": {
          "base_uri": "https://localhost:8080/"
        },
        "outputId": "c5272e4a-c9e7-4d1c-9caf-a26e4c6e167e"
      },
      "outputs": [
        {
          "output_type": "stream",
          "name": "stdout",
          "text": [
            "[[3, 6, 9], [2, 5, 8], [1, 4, 7]]\n",
            "[[7, 4, 1], [8, 5, 2], [9, 6, 3]]\n"
          ]
        }
      ],
      "source": [
        "def rotate_matrix(matrix, direction):\n",
        "    rows = len(matrix)\n",
        "    cols = len(matrix[0]) if rows > 0 else 0\n",
        "\n",
        "    if direction == 'right':\n",
        "        # Поворот по часовой стрелке\n",
        "        return [[matrix[rows - j - 1][i] for j in range(cols)] for i in range(rows)]\n",
        "    elif direction == 'left':\n",
        "        # Поворот против часовой стрелки\n",
        "        return [[matrix[j][cols - i - 1] for j in range(rows)] for i in range(cols)]\n",
        "\n",
        "\n",
        "matrix = [\n",
        "    [1, 2, 3],\n",
        "    [4, 5, 6],\n",
        "    [7, 8, 9]\n",
        "]\n",
        "\n",
        "print(rotate_matrix(matrix, 'left'))\n",
        "\n",
        "\n",
        "print(rotate_matrix(matrix, 'right'))\n",
        "\n",
        "\n"
      ]
    },
    {
      "cell_type": "markdown",
      "metadata": {
        "id": "_dY-PFlCoBGk"
      },
      "source": [
        "## Problem 3"
      ]
    },
    {
      "cell_type": "markdown",
      "metadata": {
        "id": "3CaIwcm0oBGk"
      },
      "source": [
        "Write a function that takes a string as input and returns a dictionary containing the number of occurrences of each character in the string.\n",
        "\n",
        "Example for the string 'hello, world!': {'h': 1, 'e': 1, 'l': 3, 'o': 2, ',': 1, ' ': 1, 'w': 1, 'r': 1, 'd': 1, '!': 1}."
      ]
    },
    {
      "cell_type": "code",
      "execution_count": 5,
      "metadata": {
        "id": "rlSbHusZoBGk",
        "colab": {
          "base_uri": "https://localhost:8080/"
        },
        "outputId": "41633967-3af7-4817-91be-334e78ac29f8"
      },
      "outputs": [
        {
          "output_type": "stream",
          "name": "stdout",
          "text": [
            "{'h': 1, 'e': 1, 'l': 3, 'o': 2, ',': 1, ' ': 1, 'w': 1, 'r': 1, 'd': 1, '!': 1}\n"
          ]
        }
      ],
      "source": [
        "def count_characters(s):\n",
        "    char_count = {}\n",
        "\n",
        "    # Проходим по каждому символу в строке\n",
        "    for char in s:\n",
        "        # Если символ уже есть в словаре, увеличиваем его счетчик на 1\n",
        "        if char in char_count:\n",
        "            char_count[char] += 1\n",
        "        else:\n",
        "            # Если символа нет в словаре, добавляем его со значением 1\n",
        "            char_count[char] = 1\n",
        "\n",
        "    return char_count\n",
        "\n",
        "\n",
        "result = count_characters('hello, world!')\n",
        "print(result)"
      ]
    },
    {
      "cell_type": "markdown",
      "metadata": {
        "id": "KBGJ7PeboBGk"
      },
      "source": [
        "## Problem 4"
      ]
    },
    {
      "cell_type": "markdown",
      "metadata": {
        "id": "XS4Seqa9oBGk"
      },
      "source": [
        "### Implementing a Library Management System\n",
        "\n",
        "#### Description\n",
        "\n",
        "You are required to design and implement a system for managing books and users in a library. The system should allow for the management of books (adding, deleting, searching by various criteria) and users (registration, deletion, searching), as well as tracking the history of interactions between them (issuing and returning books).\n",
        "\n",
        "#### Tasks\n",
        "\n",
        "1. **`Book` Class**:\n",
        "   - Attributes: title, author, year of publication, ISBN, number of copies.\n",
        "   - Methods: constructor, methods to get information about the book, method to change the number of copies (when issuing and returning books).\n",
        "\n",
        "2. **`User` Class**:\n",
        "   - Attributes: user name, library card number, list of borrowed books.\n",
        "   - Methods: constructor, methods for user registration, methods for adding and removing books from the borrowed list.\n",
        "\n",
        "3. **`Library` Class**:\n",
        "   - Attributes: list of books, list of users, transaction history (who, when, which book was borrowed and returned).\n",
        "   - Methods: constructor, methods for adding and deleting books and users, methods for issuing and returning books, searching for books and users by various criteria, method to display the transaction history.\n",
        "\n",
        "#### Assignment\n",
        "\n",
        "1. Implement the `Book`, `User`, and `Library` classes with the specified attributes and methods.\n",
        "2. Create several books and users, and add them to the library system.\n",
        "3. Implement scenarios for issuing books to users and their return.\n",
        "4. Display the transaction history to show how books were issued and returned.\n"
      ]
    },
    {
      "cell_type": "code",
      "source": [
        "from datetime import datetime\n",
        "\n",
        "class Book:\n",
        "    def __init__(self, title, author, year, isbn, copies):\n",
        "        self.title = title\n",
        "        self.author = author\n",
        "        self.year = year\n",
        "        self.isbn = isbn\n",
        "        self.copies = copies\n",
        "        print(f\"Книга '{title}' добавлена в библиотеку.\")\n",
        "\n",
        "    def get_info(self):\n",
        "        return f\"Название: {self.title}, Автор: {self.author}, Год: {self.year}, ISBN: {self.isbn}, Копии: {self.copies}\"\n",
        "\n",
        "    def update_copies(self, change):\n",
        "        self.copies += change\n",
        "        print(f\"Количество копий книги '{self.title}' изменено. Теперь доступно {self.copies} копий.\")\n",
        "\n",
        "\n",
        "class User:\n",
        "    def __init__(self, name, card_number):\n",
        "        self.name = name\n",
        "        self.card_number = card_number\n",
        "        self.borrowed_books = []\n",
        "        print(f\"Пользователь {name} зарегистрирован.\")\n",
        "\n",
        "    def borrow_book(self, book):\n",
        "        if book.copies > 0:\n",
        "            self.borrowed_books.append(book)\n",
        "            book.update_copies(-1)\n",
        "            print(f\"Книга '{book.title}' выдана пользователю {self.name}.\")\n",
        "            return True\n",
        "        else:\n",
        "            print(f\"Книга '{book.title}' отсутствует в наличии.\")\n",
        "            return False\n",
        "\n",
        "    def return_book(self, book):\n",
        "        if book in self.borrowed_books:\n",
        "            self.borrowed_books.remove(book)\n",
        "            book.update_copies(1)\n",
        "            print(f\"Книга '{book.title}' возвращена пользователем {self.name}.\")\n",
        "            return True\n",
        "        else:\n",
        "            print(f\"Пользователь {self.name} не брал книгу '{book.title}'.\")\n",
        "            return False\n",
        "\n",
        "\n",
        "class Library:\n",
        "    def __init__(self):\n",
        "        self.books = []\n",
        "        self.users = []\n",
        "        self.transaction_history = []\n",
        "        print(\"Библиотечная система создана.\")\n",
        "\n",
        "    def add_book(self, book):\n",
        "        self.books.append(book)\n",
        "\n",
        "    def remove_book(self, book):\n",
        "        if book in self.books:\n",
        "            self.books.remove(book)\n",
        "            print(f\"Книга '{book.title}' удалена из библиотеки.\")\n",
        "\n",
        "    def register_user(self, user):\n",
        "        self.users.append(user)\n",
        "\n",
        "    def deregister_user(self, user):\n",
        "        if user in self.users:\n",
        "            self.users.remove(user)\n",
        "            print(f\"Пользователь {user.name} удален из системы.\")\n",
        "\n",
        "    def issue_book(self, user, book):\n",
        "        if user.borrow_book(book):\n",
        "            transaction = {\n",
        "                \"user\": user.name,\n",
        "                \"book\": book.title,\n",
        "                \"action\": \"выдана\",\n",
        "                \"date\": datetime.now().strftime(\"%Y-%m-%d %H:%M:%S\")\n",
        "            }\n",
        "            self.transaction_history.append(transaction)\n",
        "\n",
        "    def return_book(self, user, book):\n",
        "        if user.return_book(book):\n",
        "            transaction = {\n",
        "                \"user\": user.name,\n",
        "                \"book\": book.title,\n",
        "                \"action\": \"возвращена\",\n",
        "                \"date\": datetime.now().strftime(\"%Y-%m-%d %H:%M:%S\")\n",
        "            }\n",
        "            self.transaction_history.append(transaction)\n",
        "\n",
        "    def search_books(self, **kwargs):\n",
        "        results = []\n",
        "        for book in self.books:\n",
        "            match = True\n",
        "            for key, value in kwargs.items():\n",
        "                if getattr(book, key) != value:\n",
        "                    match = False\n",
        "                    break\n",
        "            if match:\n",
        "                results.append(book)\n",
        "        return results\n",
        "\n",
        "    def search_users(self, **kwargs):\n",
        "        results = []\n",
        "        for user in self.users:\n",
        "            match = True\n",
        "            for key, value in kwargs.items():\n",
        "                if getattr(user, key) != value:\n",
        "                    match = False\n",
        "                    break\n",
        "            if match:\n",
        "                results.append(user)\n",
        "        return results\n",
        "\n",
        "    def display_history(self):\n",
        "        for transaction in self.transaction_history:\n",
        "            print(f\"{transaction['date']}: {transaction['user']} {transaction['action']} книгу '{transaction['book']}'.\")\n",
        "\n",
        "\n",
        "# Пример использования\n",
        "library = Library()\n",
        "\n",
        "# Создаем книги\n",
        "book1 = Book(\"Евгений Онегин\", \"Пушкин А. С.\", 1990, \"97804515249387\", 3)\n",
        "book2 = Book(\"Биология 7 класс\", \"Бабенко В. Г.\", 2009, \"97800681120954\", 2)\n",
        "\n",
        "# Добавляем книги в библиотеку\n",
        "library.add_book(book1)\n",
        "library.add_book(book2)\n",
        "\n",
        "# Создаем пользователей\n",
        "user1 = User(\"Иван Иванов\", \"12345\")\n",
        "user2 = User(\"Агеева Ада\", \"67890\")\n",
        "\n",
        "# Регистрируем пользователей\n",
        "library.register_user(user1)\n",
        "library.register_user(user2)\n",
        "\n",
        "# Выдача и возврат книг\n",
        "library.issue_book(user1, book1)\n",
        "library.issue_book(user2, book2)\n",
        "library.return_book(user1, book1)\n",
        "\n",
        "# Поиск книг\n",
        "results = library.search_books(author=\"Пушкин А. С.\")\n",
        "for book in results:\n",
        "    print(book.get_info())\n",
        "\n",
        "# Поиск пользователей\n",
        "results = library.search_users(name=\"Агеева Ада\")\n",
        "for user in results:\n",
        "    print(user.name)\n",
        "\n",
        "# Показ истории операций\n",
        "library.display_history()"
      ],
      "metadata": {
        "colab": {
          "base_uri": "https://localhost:8080/"
        },
        "id": "ZmTywn9TFeip",
        "outputId": "5de70dff-5d47-43c6-ea61-28aeead533ab"
      },
      "execution_count": 1,
      "outputs": [
        {
          "output_type": "stream",
          "name": "stdout",
          "text": [
            "Библиотечная система создана.\n",
            "Книга 'Евгений Онегин' добавлена в библиотеку.\n",
            "Книга 'Биология 7 класс' добавлена в библиотеку.\n",
            "Пользователь Иван Иванов зарегистрирован.\n",
            "Пользователь Агеева Ада зарегистрирован.\n",
            "Количество копий книги 'Евгений Онегин' изменено. Теперь доступно 2 копий.\n",
            "Книга 'Евгений Онегин' выдана пользователю Иван Иванов.\n",
            "Количество копий книги 'Биология 7 класс' изменено. Теперь доступно 1 копий.\n",
            "Книга 'Биология 7 класс' выдана пользователю Агеева Ада.\n",
            "Количество копий книги 'Евгений Онегин' изменено. Теперь доступно 3 копий.\n",
            "Книга 'Евгений Онегин' возвращена пользователем Иван Иванов.\n",
            "Название: Евгений Онегин, Автор: Пушкин А. С., Год: 1990, ISBN: 97804515249387, Копии: 3\n",
            "Агеева Ада\n",
            "2025-02-16 16:15:51: Иван Иванов выдана книгу 'Евгений Онегин'.\n",
            "2025-02-16 16:15:51: Агеева Ада выдана книгу 'Биология 7 класс'.\n",
            "2025-02-16 16:15:51: Иван Иванов возвращена книгу 'Евгений Онегин'.\n"
          ]
        }
      ]
    },
    {
      "cell_type": "markdown",
      "metadata": {
        "id": "0c8zRbSIoBGl"
      },
      "source": [
        "## Problem 5*"
      ]
    },
    {
      "cell_type": "markdown",
      "metadata": {
        "id": "8ltdzRmOoBGl"
      },
      "source": [
        "Explain why list `b` changes after the execution of the following code:\n",
        "\n",
        "```python\n",
        "a = [1, 2, 3]\n",
        "b = a\n",
        "a[0] = 4\n",
        "print(b)\n",
        "```"
      ]
    },
    {
      "cell_type": "code",
      "source": [
        "a = [1, 2, 3]\n",
        "b = a\n",
        "a[0] = 4\n",
        "print(b)"
      ],
      "metadata": {
        "colab": {
          "base_uri": "https://localhost:8080/"
        },
        "id": "5lAjJSZSIZl_",
        "outputId": "4a00015a-b03a-4b9d-e3df-a52ed3d91ff9"
      },
      "execution_count": 8,
      "outputs": [
        {
          "output_type": "stream",
          "name": "stdout",
          "text": [
            "[4, 2, 3]\n"
          ]
        }
      ]
    },
    {
      "cell_type": "markdown",
      "metadata": {
        "id": "RxgnUfFPoBGl"
      },
      "source": [
        " Переменная b не создает новый список, а просто ссылается на тот же объект в памяти, на который ссылается a.\n",
        "\n",
        "Поэтому a и b указывают на один и тот же список в памяти. И при изменении элемента в массиве а изменится и элемент в массиве b."
      ]
    },
    {
      "cell_type": "markdown",
      "metadata": {
        "id": "TmXLkc_foBGl"
      },
      "source": [
        "## Problem 6*"
      ]
    },
    {
      "cell_type": "markdown",
      "metadata": {
        "id": "Gn0ibiVCoBGl"
      },
      "source": [
        "Let\n",
        "$$A = \\sum_{i=1}^{10000} \\frac{1}{i^2},\\quad B=\\sum_{i=10000}^{1} \\frac{1}{i^2}.$$\n",
        "Calculate the values of $A$ and $B$ and compare them. What do you observe? Explain why this happens. What is the best way to calculate the value of $\\sum\\limits_{i=1}^{10000} \\dfrac{1}{i^2}$?"
      ]
    },
    {
      "cell_type": "code",
      "source": [
        "# Вычисление суммы A\n",
        "A = 0\n",
        "for i in range(1, 10000):\n",
        "    A += 1 / (i ** 2)\n",
        "\n",
        "# Вычисление суммы B\n",
        "B = 0\n",
        "for i in range(10000, 0, -1):\n",
        "    B += 1 / (i ** 2)\n",
        "\n",
        "print(f\"A = {A}\")\n",
        "print(f\"B = {B}\")"
      ],
      "metadata": {
        "colab": {
          "base_uri": "https://localhost:8080/"
        },
        "id": "cZXLHXiMntSm",
        "outputId": "56ec10ba-cb6f-4d52-acdd-0a0db7518e1b"
      },
      "execution_count": 2,
      "outputs": [
        {
          "output_type": "stream",
          "name": "stdout",
          "text": [
            "A = 1.6448340618480652\n",
            "B = 1.6448340718480596\n"
          ]
        }
      ]
    },
    {
      "cell_type": "markdown",
      "source": [
        "Точнее сумма B.\n",
        "\n",
        "Разница между суммами A и B возникает из-за ошибок округления при работе с числами с плавающей точкой в компьютере. В компьютерах числа представлены с ограниченной точностью, и при сложении большого количества чисел ошибки накапливаются.\n",
        "В сумме\n",
        "A (прямой порядок) мы начинаем с больших слагаемых и добавляем всё меньшие. Маленькие числа могут \"теряться\" при сложении с большими, что приводит к потере точности.\n",
        "\n",
        "В сумме B (обратный порядок) мы начинаем с маленьких слагаемых и добавляем всё большие.\n"
      ],
      "metadata": {
        "id": "U-93Jq9xn8tV"
      }
    }
  ],
  "metadata": {
    "colab": {
      "provenance": [],
      "include_colab_link": true
    },
    "kernelspec": {
      "display_name": "Python 3",
      "language": "python",
      "name": "python3"
    },
    "language_info": {
      "codemirror_mode": {
        "name": "ipython",
        "version": 3
      },
      "file_extension": ".py",
      "mimetype": "text/x-python",
      "name": "python",
      "nbconvert_exporter": "python",
      "pygments_lexer": "ipython3",
      "version": "3.10.6"
    }
  },
  "nbformat": 4,
  "nbformat_minor": 0
}